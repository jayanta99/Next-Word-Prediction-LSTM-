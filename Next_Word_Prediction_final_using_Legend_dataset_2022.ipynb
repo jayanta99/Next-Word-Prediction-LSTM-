{
  "nbformat": 4,
  "nbformat_minor": 0,
  "metadata": {
    "colab": {
      "name": "Next Word Prediction final using Legend dataset 2022",
      "provenance": []
    },
    "kernelspec": {
      "name": "python3",
      "display_name": "Python 3"
    },
    "language_info": {
      "name": "python"
    }
  },
  "cells": [
    {
      "cell_type": "markdown",
      "source": [
        "**IMPORTING LIBRARIES**"
      ],
      "metadata": {
        "id": "N5pnPF4WU-g6"
      }
    },
    {
      "cell_type": "code",
      "source": [
        "import tensorflow as tf\n",
        "from tensorflow.keras.preprocessing.text import Tokenizer\n",
        "from tensorflow.keras.layers import Embedding, LSTM, Dense\n",
        "from tensorflow.keras.models import Sequential\n",
        "from tensorflow.keras.utils import to_categorical\n",
        "from tensorflow.keras.optimizers import Adam\n",
        "import pickle\n",
        "import numpy as np\n",
        "import os"
      ],
      "metadata": {
        "id": "6WhWSP5lliv_"
      },
      "execution_count": null,
      "outputs": []
    },
    {
      "cell_type": "code",
      "source": [
        "import numpy as np\n",
        "import heapq\n",
        "import matplotlib.pyplot as plt\n",
        "from nltk.tokenize import RegexpTokenizer\n",
        "from keras.models import Sequential, load_model\n",
        "from keras.layers.core import Dense, Activation\n",
        "from keras.layers import LSTM\n",
        "import pickle\n",
        "from tensorflow.keras.optimizers import RMSprop"
      ],
      "metadata": {
        "id": "SFOtrF4NEegj"
      },
      "execution_count": null,
      "outputs": []
    },
    {
      "cell_type": "markdown",
      "source": [
        "**UPLOADING FILES OF Sherlock_Holmes.txt**"
      ],
      "metadata": {
        "id": "mwA2xjI6VFOG"
      }
    },
    {
      "cell_type": "code",
      "source": [
        "from google.colab import files\n",
        "uploaded = files.upload()"
      ],
      "metadata": {
        "colab": {
          "resources": {
            "http://localhost:8080/nbextensions/google.colab/files.js": {
              "data": "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",
              "ok": true,
              "headers": [
                [
                  "content-type",
                  "application/javascript"
                ]
              ],
              "status": 200,
              "status_text": ""
            }
          },
          "base_uri": "https://localhost:8080/",
          "height": 74
        },
        "id": "B7RJbTjNaXcP",
        "outputId": "7c3ac0dc-7116-4a88-93d3-f75ba8d958a8"
      },
      "execution_count": null,
      "outputs": [
        {
          "output_type": "display_data",
          "data": {
            "text/html": [
              "\n",
              "     <input type=\"file\" id=\"files-f5d0fce3-19a6-4c13-8267-95726ba808ae\" name=\"files[]\" multiple disabled\n",
              "        style=\"border:none\" />\n",
              "     <output id=\"result-f5d0fce3-19a6-4c13-8267-95726ba808ae\">\n",
              "      Upload widget is only available when the cell has been executed in the\n",
              "      current browser session. Please rerun this cell to enable.\n",
              "      </output>\n",
              "      <script src=\"/nbextensions/google.colab/files.js\"></script> "
            ],
            "text/plain": [
              "<IPython.core.display.HTML object>"
            ]
          },
          "metadata": {}
        },
        {
          "output_type": "stream",
          "name": "stdout",
          "text": [
            "Saving legend.txt to legend.txt\n"
          ]
        }
      ]
    },
    {
      "cell_type": "code",
      "source": [
        "path = 'legend.txt'\n",
        "text = open(path).read().lower()\n",
        "print('length of the corpus is: :', len(text))"
      ],
      "metadata": {
        "colab": {
          "base_uri": "https://localhost:8080/"
        },
        "id": "vuYNtOpQaijL",
        "outputId": "00eb1a8e-1893-47a8-96d7-fd0c4620cade"
      },
      "execution_count": null,
      "outputs": [
        {
          "output_type": "stream",
          "name": "stdout",
          "text": [
            "length of the corpus is: : 89235\n"
          ]
        }
      ]
    },
    {
      "cell_type": "code",
      "source": [
        "file = open(\"legend.txt\", \"r\", encoding = \"utf8\")\n",
        "\n",
        "# store file in list\n",
        "lines = []\n",
        "for i in file:\n",
        "    lines.append(i)\n",
        "\n",
        "# Convert list to string\n",
        "data = \"\"\n",
        "for i in lines:\n",
        "  data = ' '. join(lines) \n",
        "\n",
        "#replace unnecessary stuff with space\n",
        "data = data.replace('\\n', '').replace('\\r', '').replace('\\ufeff', '').replace('“','').replace('”','')  #new line, carriage return, unicode character --> replace by space\n",
        "\n",
        "#remove unnecessary spaces \n",
        "data = data.split()\n",
        "data = ' '.join(data)\n",
        "data[:500]"
      ],
      "metadata": {
        "id": "PUroCDzImBoE",
        "colab": {
          "base_uri": "https://localhost:8080/",
          "height": 72
        },
        "outputId": "660b3ca6-abeb-483c-ed3b-9988c2cb8b74"
      },
      "execution_count": null,
      "outputs": [
        {
          "output_type": "execute_result",
          "data": {
            "application/vnd.google.colaboratory.intrinsic+json": {
              "type": "string"
            },
            "text/plain": [
              "'Project Gutenberg’s The Legend of Sleepy Hollow, by Washington Irving This eBook is for the use of anyone anywhere at no cost and with almost no restrictions whatsoever. You may copy it, give it away or re-use it under the terms of the Project Gutenberg License included with this eBook or online at www.gutenberg.org Title: The Legend of Sleepy Hollow Author: Washington Irving Posting Date: June 25, 2008 [EBook #41] Release Date: October, 1992 Last Updated: September 14, 2016 Language: English Ch'"
            ]
          },
          "metadata": {},
          "execution_count": 5
        }
      ]
    },
    {
      "cell_type": "code",
      "source": [
        "len(data)"
      ],
      "metadata": {
        "colab": {
          "base_uri": "https://localhost:8080/"
        },
        "id": "QraiH8rzmJrE",
        "outputId": "c0fa4ac1-f05a-4108-de44-5eaf8501da37"
      },
      "execution_count": null,
      "outputs": [
        {
          "output_type": "execute_result",
          "data": {
            "text/plain": [
              "88699"
            ]
          },
          "metadata": {},
          "execution_count": 6
        }
      ]
    },
    {
      "cell_type": "markdown",
      "source": [
        "**TOKENIZATION**"
      ],
      "metadata": {
        "id": "SvpOKrvkVXAd"
      }
    },
    {
      "cell_type": "code",
      "source": [
        "tokenizer = Tokenizer()\n",
        "tokenizer.fit_on_texts([data])\n",
        "\n",
        "# saving the tokenizer for predict function\n",
        "pickle.dump(tokenizer, open('token.pkl', 'wb'))\n",
        "\n",
        "sequence_data = tokenizer.texts_to_sequences([data])[0]\n",
        "sequence_data[:15]"
      ],
      "metadata": {
        "colab": {
          "base_uri": "https://localhost:8080/"
        },
        "id": "L08dtrYLmOkb",
        "outputId": "66d6aa3a-ccdf-4e1f-a01d-8370944de7d4"
      },
      "execution_count": null,
      "outputs": [
        {
          "output_type": "execute_result",
          "data": {
            "text/plain": [
              "[21, 845, 1, 283, 2, 77, 57, 14, 427, 428, 17, 185, 27, 18, 1]"
            ]
          },
          "metadata": {},
          "execution_count": 7
        }
      ]
    },
    {
      "cell_type": "code",
      "source": [
        "len(sequence_data)"
      ],
      "metadata": {
        "colab": {
          "base_uri": "https://localhost:8080/"
        },
        "id": "U4KvwGfzmj31",
        "outputId": "19cd4183-dc66-490f-ae5e-905236c9632d"
      },
      "execution_count": null,
      "outputs": [
        {
          "output_type": "execute_result",
          "data": {
            "text/plain": [
              "15546"
            ]
          },
          "metadata": {},
          "execution_count": 8
        }
      ]
    },
    {
      "cell_type": "code",
      "source": [
        "vocab_size = len(tokenizer.word_index) + 1\n",
        "print(vocab_size)"
      ],
      "metadata": {
        "colab": {
          "base_uri": "https://localhost:8080/"
        },
        "id": "vqEH9xChmnm7",
        "outputId": "60732360-9142-4561-d2a3-8ccea719801a"
      },
      "execution_count": null,
      "outputs": [
        {
          "output_type": "stream",
          "name": "stdout",
          "text": [
            "3705\n"
          ]
        }
      ]
    },
    {
      "cell_type": "code",
      "source": [
        "sequences = []\n",
        "\n",
        "for i in range(3, len(sequence_data)):\n",
        "    words = sequence_data[i-3:i+1]\n",
        "    sequences.append(words)\n",
        "    \n",
        "print(\"The Length of sequences are: \", len(sequences))\n",
        "sequences = np.array(sequences)\n",
        "sequences[:10]"
      ],
      "metadata": {
        "colab": {
          "base_uri": "https://localhost:8080/"
        },
        "id": "mukGPwE1mtq6",
        "outputId": "f3c560f4-ac7b-43af-dcdc-c37993b7bb2b"
      },
      "execution_count": null,
      "outputs": [
        {
          "output_type": "stream",
          "name": "stdout",
          "text": [
            "The Length of sequences are:  15543\n"
          ]
        },
        {
          "output_type": "execute_result",
          "data": {
            "text/plain": [
              "array([[ 21, 845,   1, 283],\n",
              "       [845,   1, 283,   2],\n",
              "       [  1, 283,   2,  77],\n",
              "       [283,   2,  77,  57],\n",
              "       [  2,  77,  57,  14],\n",
              "       [ 77,  57,  14, 427],\n",
              "       [ 57,  14, 427, 428],\n",
              "       [ 14, 427, 428,  17],\n",
              "       [427, 428,  17, 185],\n",
              "       [428,  17, 185,  27]])"
            ]
          },
          "metadata": {},
          "execution_count": 10
        }
      ]
    },
    {
      "cell_type": "code",
      "source": [
        "X = []\n",
        "y = []\n",
        "\n",
        "for i in sequences:\n",
        "    X.append(i[0:3])\n",
        "    y.append(i[3])\n",
        "    \n",
        "X = np.array(X)\n",
        "y = np.array(y)"
      ],
      "metadata": {
        "id": "p7L-f-jPmwka"
      },
      "execution_count": null,
      "outputs": []
    },
    {
      "cell_type": "code",
      "source": [
        "print(\"Data: \", X[:10])\n",
        "print(\"Response: \", y[:10])"
      ],
      "metadata": {
        "colab": {
          "base_uri": "https://localhost:8080/"
        },
        "id": "YhLKz3S-m1my",
        "outputId": "b07c46bf-c3af-49b8-9608-332d36f87f16"
      },
      "execution_count": null,
      "outputs": [
        {
          "output_type": "stream",
          "name": "stdout",
          "text": [
            "Data:  [[ 21 845   1]\n",
            " [845   1 283]\n",
            " [  1 283   2]\n",
            " [283   2  77]\n",
            " [  2  77  57]\n",
            " [ 77  57  14]\n",
            " [ 57  14 427]\n",
            " [ 14 427 428]\n",
            " [427 428  17]\n",
            " [428  17 185]]\n",
            "Response:  [283   2  77  57  14 427 428  17 185  27]\n"
          ]
        }
      ]
    },
    {
      "cell_type": "code",
      "source": [
        "y = to_categorical(y, num_classes=vocab_size)\n",
        "y[:5]"
      ],
      "metadata": {
        "colab": {
          "base_uri": "https://localhost:8080/"
        },
        "id": "rvd4LETcm5JS",
        "outputId": "a7e80b24-0911-441c-c717-949563710b89"
      },
      "execution_count": null,
      "outputs": [
        {
          "output_type": "execute_result",
          "data": {
            "text/plain": [
              "array([[0., 0., 0., ..., 0., 0., 0.],\n",
              "       [0., 0., 1., ..., 0., 0., 0.],\n",
              "       [0., 0., 0., ..., 0., 0., 0.],\n",
              "       [0., 0., 0., ..., 0., 0., 0.],\n",
              "       [0., 0., 0., ..., 0., 0., 0.]], dtype=float32)"
            ]
          },
          "metadata": {},
          "execution_count": 13
        }
      ]
    },
    {
      "cell_type": "markdown",
      "source": [
        "**CREATING MODEL**"
      ],
      "metadata": {
        "id": "V4iJTt_AUwB6"
      }
    },
    {
      "cell_type": "code",
      "source": [
        "model = Sequential()\n",
        "model.add(Embedding(vocab_size, 10, input_length=3))\n",
        "model.add(LSTM(50, return_sequences=True))\n",
        "model.add(LSTM(50))\n",
        "model.add(Dense(50, activation=\"relu\"))\n",
        "model.add(Dense(vocab_size, activation=\"softmax\"))"
      ],
      "metadata": {
        "id": "4-wPttcSnkXE"
      },
      "execution_count": null,
      "outputs": []
    },
    {
      "cell_type": "code",
      "source": [
        "model.summary()"
      ],
      "metadata": {
        "colab": {
          "base_uri": "https://localhost:8080/"
        },
        "id": "1-dLXYM2ntsr",
        "outputId": "347ec8b2-82da-47d9-fc9c-cdf340c217f2"
      },
      "execution_count": null,
      "outputs": [
        {
          "output_type": "stream",
          "name": "stdout",
          "text": [
            "Model: \"sequential\"\n",
            "_________________________________________________________________\n",
            " Layer (type)                Output Shape              Param #   \n",
            "=================================================================\n",
            " embedding (Embedding)       (None, 3, 10)             37050     \n",
            "                                                                 \n",
            " lstm (LSTM)                 (None, 3, 50)             12200     \n",
            "                                                                 \n",
            " lstm_1 (LSTM)               (None, 50)                20200     \n",
            "                                                                 \n",
            " dense (Dense)               (None, 50)                2550      \n",
            "                                                                 \n",
            " dense_1 (Dense)             (None, 3705)              188955    \n",
            "                                                                 \n",
            "=================================================================\n",
            "Total params: 260,955\n",
            "Trainable params: 260,955\n",
            "Non-trainable params: 0\n",
            "_________________________________________________________________\n"
          ]
        }
      ]
    },
    {
      "cell_type": "code",
      "source": [
        "from tensorflow import keras\n",
        "from keras.utils.vis_utils import plot_model\n",
        "\n",
        "keras.utils.plot_model(model, to_file='plot.png', show_layer_names=True)"
      ],
      "metadata": {
        "colab": {
          "base_uri": "https://localhost:8080/",
          "height": 564
        },
        "id": "J4aIWuz2nxEK",
        "outputId": "d5f3621d-ae9d-42c9-8617-3df47fc30354"
      },
      "execution_count": null,
      "outputs": [
        {
          "output_type": "execute_result",
          "data": {
            "image/png": "[encoded data removed]",
            "text/plain": [
              "<IPython.core.display.Image object>"
            ]
          },
          "metadata": {},
          "execution_count": 16
        }
      ]
    },
    {
      "cell_type": "markdown",
      "source": [
        "**TRAINNING OF MODEL**"
      ],
      "metadata": {
        "id": "ZU0tvASxUH9P"
      }
    },
    {
      "cell_type": "code",
      "source": [
        "from tensorflow.keras.callbacks import ModelCheckpoint\n",
        "optimizer = RMSprop(learning_rate=0.01)\n",
        "checkpoint = ModelCheckpoint(\"next_words.h5\", monitor='loss', verbose=1, save_best_only=True)\n",
        "model.compile(loss='categorical_crossentropy', optimizer=optimizer, metrics=['accuracy'])\n",
        "history = model.fit(X, y, validation_split=0.05, batch_size=128, epochs=100, shuffle=True).history"
      ],
      "metadata": {
        "colab": {
          "base_uri": "https://localhost:8080/"
        },
        "id": "d4JNnICAcYFm",
        "outputId": "75b53394-6362-4b55-bb4b-fc2becc79bf7"
      },
      "execution_count": null,
      "outputs": [
        {
          "output_type": "stream",
          "name": "stdout",
          "text": [
            "Epoch 1/100\n",
            "116/116 [==============================] - 9s 37ms/step - loss: 6.7794 - accuracy: 0.0715 - val_loss: 7.7922 - val_accuracy: 0.0707\n",
            "Epoch 2/100\n",
            "116/116 [==============================] - 3s 24ms/step - loss: 6.2991 - accuracy: 0.0970 - val_loss: 7.4118 - val_accuracy: 0.0591\n",
            "Epoch 3/100\n",
            "116/116 [==============================] - 3s 26ms/step - loss: 5.9857 - accuracy: 0.1076 - val_loss: 8.1375 - val_accuracy: 0.0784\n",
            "Epoch 4/100\n",
            "116/116 [==============================] - 3s 26ms/step - loss: 5.7466 - accuracy: 0.1235 - val_loss: 7.8849 - val_accuracy: 0.1260\n",
            "Epoch 5/100\n",
            "116/116 [==============================] - 3s 25ms/step - loss: 5.5729 - accuracy: 0.1340 - val_loss: 7.5592 - val_accuracy: 0.1350\n",
            "Epoch 6/100\n",
            "116/116 [==============================] - 3s 24ms/step - loss: 5.4412 - accuracy: 0.1416 - val_loss: 8.2738 - val_accuracy: 0.1324\n",
            "Epoch 7/100\n",
            "116/116 [==============================] - 3s 23ms/step - loss: 5.3232 - accuracy: 0.1493 - val_loss: 8.1535 - val_accuracy: 0.1285\n",
            "Epoch 8/100\n",
            "116/116 [==============================] - 3s 23ms/step - loss: 5.2165 - accuracy: 0.1581 - val_loss: 8.3114 - val_accuracy: 0.1260\n",
            "Epoch 9/100\n",
            "116/116 [==============================] - 3s 23ms/step - loss: 5.1085 - accuracy: 0.1669 - val_loss: 8.7198 - val_accuracy: 0.1362\n",
            "Epoch 10/100\n",
            "116/116 [==============================] - 3s 23ms/step - loss: 5.0063 - accuracy: 0.1751 - val_loss: 8.6458 - val_accuracy: 0.1324\n",
            "Epoch 11/100\n",
            "116/116 [==============================] - 3s 23ms/step - loss: 4.8995 - accuracy: 0.1833 - val_loss: 8.8641 - val_accuracy: 0.1208\n",
            "Epoch 12/100\n",
            "116/116 [==============================] - 3s 23ms/step - loss: 4.7886 - accuracy: 0.1905 - val_loss: 8.8538 - val_accuracy: 0.1183\n",
            "Epoch 13/100\n",
            "116/116 [==============================] - 3s 23ms/step - loss: 4.6700 - accuracy: 0.2002 - val_loss: 9.4317 - val_accuracy: 0.0913\n",
            "Epoch 14/100\n",
            "116/116 [==============================] - 3s 23ms/step - loss: 4.5484 - accuracy: 0.2070 - val_loss: 9.7860 - val_accuracy: 0.1093\n",
            "Epoch 15/100\n",
            "116/116 [==============================] - 3s 23ms/step - loss: 4.4224 - accuracy: 0.2205 - val_loss: 9.7753 - val_accuracy: 0.1015\n",
            "Epoch 16/100\n",
            "116/116 [==============================] - 3s 26ms/step - loss: 4.3023 - accuracy: 0.2273 - val_loss: 10.0294 - val_accuracy: 0.1080\n",
            "Epoch 17/100\n",
            "116/116 [==============================] - 3s 26ms/step - loss: 4.1816 - accuracy: 0.2360 - val_loss: 10.4583 - val_accuracy: 0.1041\n",
            "Epoch 18/100\n",
            "116/116 [==============================] - 3s 27ms/step - loss: 4.0652 - accuracy: 0.2465 - val_loss: 10.5791 - val_accuracy: 0.1015\n",
            "Epoch 19/100\n",
            "116/116 [==============================] - 3s 26ms/step - loss: 3.9555 - accuracy: 0.2562 - val_loss: 10.5530 - val_accuracy: 0.1041\n",
            "Epoch 20/100\n",
            "116/116 [==============================] - 3s 25ms/step - loss: 3.8495 - accuracy: 0.2677 - val_loss: 11.5077 - val_accuracy: 0.0977\n",
            "Epoch 21/100\n",
            "116/116 [==============================] - 3s 24ms/step - loss: 3.7512 - accuracy: 0.2769 - val_loss: 11.5252 - val_accuracy: 0.0925\n",
            "Epoch 22/100\n",
            "116/116 [==============================] - 3s 26ms/step - loss: 3.6332 - accuracy: 0.2900 - val_loss: 11.4358 - val_accuracy: 0.0977\n",
            "Epoch 23/100\n",
            "116/116 [==============================] - 3s 23ms/step - loss: 3.5108 - accuracy: 0.2992 - val_loss: 11.9270 - val_accuracy: 0.0938\n",
            "Epoch 24/100\n",
            "116/116 [==============================] - 3s 25ms/step - loss: 3.4133 - accuracy: 0.3086 - val_loss: 12.2647 - val_accuracy: 0.0951\n",
            "Epoch 25/100\n",
            "116/116 [==============================] - 3s 25ms/step - loss: 3.2988 - accuracy: 0.3191 - val_loss: 12.9991 - val_accuracy: 0.0874\n",
            "Epoch 26/100\n",
            "116/116 [==============================] - 3s 25ms/step - loss: 3.1982 - accuracy: 0.3292 - val_loss: 12.9039 - val_accuracy: 0.0900\n",
            "Epoch 27/100\n",
            "116/116 [==============================] - 3s 24ms/step - loss: 3.0749 - accuracy: 0.3447 - val_loss: 13.3260 - val_accuracy: 0.0861\n",
            "Epoch 28/100\n",
            "116/116 [==============================] - 3s 23ms/step - loss: 2.9878 - accuracy: 0.3533 - val_loss: 13.9110 - val_accuracy: 0.0861\n",
            "Epoch 29/100\n",
            "116/116 [==============================] - 3s 23ms/step - loss: 2.8944 - accuracy: 0.3714 - val_loss: 14.2612 - val_accuracy: 0.0835\n",
            "Epoch 30/100\n",
            "116/116 [==============================] - 3s 23ms/step - loss: 2.8016 - accuracy: 0.3764 - val_loss: 14.8727 - val_accuracy: 0.0938\n",
            "Epoch 31/100\n",
            "116/116 [==============================] - 3s 23ms/step - loss: 2.7073 - accuracy: 0.3909 - val_loss: 14.8074 - val_accuracy: 0.0913\n",
            "Epoch 32/100\n",
            "116/116 [==============================] - 3s 26ms/step - loss: 2.6058 - accuracy: 0.4061 - val_loss: 15.5870 - val_accuracy: 0.0887\n",
            "Epoch 33/100\n",
            "116/116 [==============================] - 3s 24ms/step - loss: 2.5277 - accuracy: 0.4192 - val_loss: 15.8650 - val_accuracy: 0.0848\n",
            "Epoch 34/100\n",
            "116/116 [==============================] - 3s 26ms/step - loss: 2.4615 - accuracy: 0.4304 - val_loss: 15.9770 - val_accuracy: 0.0874\n",
            "Epoch 35/100\n",
            "116/116 [==============================] - 3s 25ms/step - loss: 2.3901 - accuracy: 0.4425 - val_loss: 16.1191 - val_accuracy: 0.0925\n",
            "Epoch 36/100\n",
            "116/116 [==============================] - 3s 28ms/step - loss: 2.3269 - accuracy: 0.4476 - val_loss: 16.9129 - val_accuracy: 0.0887\n",
            "Epoch 37/100\n",
            "116/116 [==============================] - 3s 27ms/step - loss: 2.2471 - accuracy: 0.4623 - val_loss: 16.7256 - val_accuracy: 0.0874\n",
            "Epoch 38/100\n",
            "116/116 [==============================] - 3s 24ms/step - loss: 2.1969 - accuracy: 0.4728 - val_loss: 17.2272 - val_accuracy: 0.0990\n",
            "Epoch 39/100\n",
            "116/116 [==============================] - 3s 24ms/step - loss: 2.1396 - accuracy: 0.4868 - val_loss: 17.7481 - val_accuracy: 0.0861\n",
            "Epoch 40/100\n",
            "116/116 [==============================] - 3s 24ms/step - loss: 2.0730 - accuracy: 0.4975 - val_loss: 18.8302 - val_accuracy: 0.0771\n",
            "Epoch 41/100\n",
            "116/116 [==============================] - 3s 25ms/step - loss: 2.0378 - accuracy: 0.5021 - val_loss: 18.5824 - val_accuracy: 0.0913\n",
            "Epoch 42/100\n",
            "116/116 [==============================] - 3s 24ms/step - loss: 1.9678 - accuracy: 0.5139 - val_loss: 18.8807 - val_accuracy: 0.1003\n",
            "Epoch 43/100\n",
            "116/116 [==============================] - 3s 23ms/step - loss: 1.9253 - accuracy: 0.5248 - val_loss: 19.4888 - val_accuracy: 0.0951\n",
            "Epoch 44/100\n",
            "116/116 [==============================] - 3s 23ms/step - loss: 1.8774 - accuracy: 0.5310 - val_loss: 19.5538 - val_accuracy: 0.0810\n",
            "Epoch 45/100\n",
            "116/116 [==============================] - 3s 23ms/step - loss: 1.8264 - accuracy: 0.5411 - val_loss: 19.6736 - val_accuracy: 0.0951\n",
            "Epoch 46/100\n",
            "116/116 [==============================] - 3s 23ms/step - loss: 1.7986 - accuracy: 0.5548 - val_loss: 19.7918 - val_accuracy: 0.0900\n",
            "Epoch 47/100\n",
            "116/116 [==============================] - 3s 23ms/step - loss: 1.7477 - accuracy: 0.5621 - val_loss: 20.8222 - val_accuracy: 0.0977\n",
            "Epoch 48/100\n",
            "116/116 [==============================] - 3s 26ms/step - loss: 1.7170 - accuracy: 0.5667 - val_loss: 20.8704 - val_accuracy: 0.0951\n",
            "Epoch 49/100\n",
            "116/116 [==============================] - 3s 24ms/step - loss: 1.6753 - accuracy: 0.5773 - val_loss: 21.6755 - val_accuracy: 0.0900\n",
            "Epoch 50/100\n",
            "116/116 [==============================] - 3s 23ms/step - loss: 1.6263 - accuracy: 0.5839 - val_loss: 21.9072 - val_accuracy: 0.0951\n",
            "Epoch 51/100\n",
            "116/116 [==============================] - 3s 23ms/step - loss: 1.6032 - accuracy: 0.5893 - val_loss: 22.3645 - val_accuracy: 0.0887\n",
            "Epoch 52/100\n",
            "116/116 [==============================] - 3s 23ms/step - loss: 1.5494 - accuracy: 0.6001 - val_loss: 22.0284 - val_accuracy: 0.0951\n",
            "Epoch 53/100\n",
            "116/116 [==============================] - 3s 24ms/step - loss: 1.5205 - accuracy: 0.6039 - val_loss: 22.2421 - val_accuracy: 0.0951\n",
            "Epoch 54/100\n",
            "116/116 [==============================] - 3s 24ms/step - loss: 1.4893 - accuracy: 0.6123 - val_loss: 23.1953 - val_accuracy: 0.0977\n",
            "Epoch 55/100\n",
            "116/116 [==============================] - 3s 23ms/step - loss: 1.4813 - accuracy: 0.6145 - val_loss: 23.0408 - val_accuracy: 0.0951\n",
            "Epoch 56/100\n",
            "116/116 [==============================] - 3s 23ms/step - loss: 1.4497 - accuracy: 0.6207 - val_loss: 22.9066 - val_accuracy: 0.0861\n",
            "Epoch 57/100\n",
            "116/116 [==============================] - 3s 24ms/step - loss: 1.4195 - accuracy: 0.6310 - val_loss: 22.7777 - val_accuracy: 0.0925\n",
            "Epoch 58/100\n",
            "116/116 [==============================] - 3s 23ms/step - loss: 1.4041 - accuracy: 0.6359 - val_loss: 23.4398 - val_accuracy: 0.1028\n",
            "Epoch 59/100\n",
            "116/116 [==============================] - 3s 25ms/step - loss: 1.3567 - accuracy: 0.6469 - val_loss: 23.6795 - val_accuracy: 0.0900\n",
            "Epoch 60/100\n",
            "116/116 [==============================] - 3s 25ms/step - loss: 1.3354 - accuracy: 0.6473 - val_loss: 24.1403 - val_accuracy: 0.0900\n",
            "Epoch 61/100\n",
            "116/116 [==============================] - 3s 23ms/step - loss: 1.3132 - accuracy: 0.6509 - val_loss: 23.9448 - val_accuracy: 0.0913\n",
            "Epoch 62/100\n",
            "116/116 [==============================] - 3s 23ms/step - loss: 1.2858 - accuracy: 0.6583 - val_loss: 23.8135 - val_accuracy: 0.0887\n",
            "Epoch 63/100\n",
            "116/116 [==============================] - 3s 24ms/step - loss: 1.2629 - accuracy: 0.6631 - val_loss: 25.2143 - val_accuracy: 0.0977\n",
            "Epoch 64/100\n",
            "116/116 [==============================] - 3s 25ms/step - loss: 1.2527 - accuracy: 0.6680 - val_loss: 25.0378 - val_accuracy: 0.0990\n",
            "Epoch 65/100\n",
            "116/116 [==============================] - 3s 23ms/step - loss: 1.2314 - accuracy: 0.6696 - val_loss: 24.9712 - val_accuracy: 0.1067\n",
            "Epoch 66/100\n",
            "116/116 [==============================] - 3s 24ms/step - loss: 1.2104 - accuracy: 0.6773 - val_loss: 25.2987 - val_accuracy: 0.0861\n",
            "Epoch 67/100\n",
            "116/116 [==============================] - 3s 24ms/step - loss: 1.1959 - accuracy: 0.6826 - val_loss: 25.5337 - val_accuracy: 0.0913\n",
            "Epoch 68/100\n",
            "116/116 [==============================] - 3s 24ms/step - loss: 1.1747 - accuracy: 0.6866 - val_loss: 25.4264 - val_accuracy: 0.0925\n",
            "Epoch 69/100\n",
            "116/116 [==============================] - 3s 24ms/step - loss: 1.1399 - accuracy: 0.6912 - val_loss: 24.4791 - val_accuracy: 0.0913\n",
            "Epoch 70/100\n",
            "116/116 [==============================] - 3s 24ms/step - loss: 1.1540 - accuracy: 0.6912 - val_loss: 26.5912 - val_accuracy: 0.0951\n",
            "Epoch 71/100\n",
            "116/116 [==============================] - 3s 25ms/step - loss: 1.1205 - accuracy: 0.6973 - val_loss: 26.0036 - val_accuracy: 0.0951\n",
            "Epoch 72/100\n",
            "116/116 [==============================] - 3s 24ms/step - loss: 1.1211 - accuracy: 0.6950 - val_loss: 27.4559 - val_accuracy: 0.0951\n",
            "Epoch 73/100\n",
            "116/116 [==============================] - 3s 26ms/step - loss: 1.0991 - accuracy: 0.7027 - val_loss: 25.6207 - val_accuracy: 0.0964\n",
            "Epoch 74/100\n",
            "116/116 [==============================] - 3s 28ms/step - loss: 1.0927 - accuracy: 0.7025 - val_loss: 26.0227 - val_accuracy: 0.0977\n",
            "Epoch 75/100\n",
            "116/116 [==============================] - 3s 26ms/step - loss: 1.0803 - accuracy: 0.7085 - val_loss: 26.8036 - val_accuracy: 0.0848\n",
            "Epoch 76/100\n",
            "116/116 [==============================] - 3s 24ms/step - loss: 1.0702 - accuracy: 0.7109 - val_loss: 26.5804 - val_accuracy: 0.1041\n",
            "Epoch 77/100\n",
            "116/116 [==============================] - 3s 25ms/step - loss: 1.0350 - accuracy: 0.7175 - val_loss: 28.2649 - val_accuracy: 0.0874\n",
            "Epoch 78/100\n",
            "116/116 [==============================] - 3s 24ms/step - loss: 1.0164 - accuracy: 0.7201 - val_loss: 27.7116 - val_accuracy: 0.0938\n",
            "Epoch 79/100\n",
            "116/116 [==============================] - 3s 26ms/step - loss: 1.0321 - accuracy: 0.7226 - val_loss: 28.3650 - val_accuracy: 0.0887\n",
            "Epoch 80/100\n",
            "116/116 [==============================] - 3s 27ms/step - loss: 1.0077 - accuracy: 0.7255 - val_loss: 28.0224 - val_accuracy: 0.0925\n",
            "Epoch 81/100\n",
            "116/116 [==============================] - 3s 27ms/step - loss: 0.9958 - accuracy: 0.7273 - val_loss: 28.7037 - val_accuracy: 0.0913\n",
            "Epoch 82/100\n",
            "116/116 [==============================] - 3s 25ms/step - loss: 0.9844 - accuracy: 0.7350 - val_loss: 28.3984 - val_accuracy: 0.0848\n",
            "Epoch 83/100\n",
            "116/116 [==============================] - 3s 27ms/step - loss: 0.9827 - accuracy: 0.7373 - val_loss: 28.5553 - val_accuracy: 0.0887\n",
            "Epoch 84/100\n",
            "116/116 [==============================] - 3s 25ms/step - loss: 0.9802 - accuracy: 0.7334 - val_loss: 28.0115 - val_accuracy: 0.0913\n",
            "Epoch 85/100\n",
            "116/116 [==============================] - 3s 27ms/step - loss: 0.9656 - accuracy: 0.7397 - val_loss: 28.1236 - val_accuracy: 0.0874\n",
            "Epoch 86/100\n",
            "116/116 [==============================] - 3s 24ms/step - loss: 0.9439 - accuracy: 0.7415 - val_loss: 28.3101 - val_accuracy: 0.0913\n",
            "Epoch 87/100\n",
            "116/116 [==============================] - 3s 24ms/step - loss: 0.9385 - accuracy: 0.7455 - val_loss: 28.2166 - val_accuracy: 0.0887\n",
            "Epoch 88/100\n",
            "116/116 [==============================] - 3s 27ms/step - loss: 0.9354 - accuracy: 0.7457 - val_loss: 28.3739 - val_accuracy: 0.0874\n",
            "Epoch 89/100\n",
            "116/116 [==============================] - 3s 27ms/step - loss: 0.9305 - accuracy: 0.7470 - val_loss: 29.5211 - val_accuracy: 0.0887\n",
            "Epoch 90/100\n",
            "116/116 [==============================] - 3s 23ms/step - loss: 0.9224 - accuracy: 0.7474 - val_loss: 28.6809 - val_accuracy: 0.0913\n",
            "Epoch 91/100\n",
            "116/116 [==============================] - 3s 27ms/step - loss: 0.9113 - accuracy: 0.7532 - val_loss: 28.2465 - val_accuracy: 0.1003\n",
            "Epoch 92/100\n",
            "116/116 [==============================] - 3s 24ms/step - loss: 0.9122 - accuracy: 0.7469 - val_loss: 28.7884 - val_accuracy: 0.0951\n",
            "Epoch 93/100\n",
            "116/116 [==============================] - 3s 24ms/step - loss: 0.8943 - accuracy: 0.7528 - val_loss: 28.4565 - val_accuracy: 0.0887\n",
            "Epoch 94/100\n",
            "116/116 [==============================] - 3s 24ms/step - loss: 0.8984 - accuracy: 0.7565 - val_loss: 28.8230 - val_accuracy: 0.0913\n",
            "Epoch 95/100\n",
            "116/116 [==============================] - 3s 25ms/step - loss: 0.8626 - accuracy: 0.7626 - val_loss: 28.7870 - val_accuracy: 0.0887\n",
            "Epoch 96/100\n",
            "116/116 [==============================] - 3s 25ms/step - loss: 0.8797 - accuracy: 0.7574 - val_loss: 28.8218 - val_accuracy: 0.0990\n",
            "Epoch 97/100\n",
            "116/116 [==============================] - 3s 23ms/step - loss: 0.8708 - accuracy: 0.7605 - val_loss: 27.9342 - val_accuracy: 0.0951\n",
            "Epoch 98/100\n",
            "116/116 [==============================] - 3s 25ms/step - loss: 0.8608 - accuracy: 0.7675 - val_loss: 29.1458 - val_accuracy: 0.0913\n",
            "Epoch 99/100\n",
            "116/116 [==============================] - 3s 23ms/step - loss: 0.8675 - accuracy: 0.7619 - val_loss: 28.6004 - val_accuracy: 0.1003\n",
            "Epoch 100/100\n",
            "116/116 [==============================] - 3s 24ms/step - loss: 0.8449 - accuracy: 0.7665 - val_loss: 28.1604 - val_accuracy: 0.0938\n"
          ]
        }
      ]
    },
    {
      "cell_type": "markdown",
      "source": [
        "**NEXT WORD PREDICTING**"
      ],
      "metadata": {
        "id": "iFmNtAeqUaZM"
      }
    },
    {
      "cell_type": "markdown",
      "source": [
        "**OUTPUT**"
      ],
      "metadata": {
        "id": "f41pUL1lUhpk"
      }
    },
    {
      "cell_type": "code",
      "source": [
        "from keras.preprocessing.sequence import pad_sequences\n",
        "input_text = input().strip().lower()\n",
        "sequence = tokenizer.texts_to_sequences([input_text])[0]\n",
        "preds = pad_sequences([sequence], maxlen=3, truncating='pre')\n",
        "print(sequence, preds)\n",
        "for i in (model.predict(preds)[0]).argsort()[-3:][::-1]:\n",
        "  predicted_word = tokenizer.index_word[i]\n",
        "  print(\"Next word suggestion:\",predicted_word)"
      ],
      "metadata": {
        "id": "GU9aKThcMIgK",
        "colab": {
          "base_uri": "https://localhost:8080/"
        },
        "outputId": "5ecbba0d-3e23-4df0-aa29-189a78612f58"
      },
      "execution_count": null,
      "outputs": [
        {
          "output_type": "stream",
          "name": "stdout",
          "text": [
            "whole neighbourhood abounds with local \n",
            "[107, 1524, 10, 626] [[1524   10  626]]\n",
            "Next word suggestion: tales\n",
            "Next word suggestion: until\n",
            "Next word suggestion: smoked\n"
          ]
        }
      ]
    },
    {
      "cell_type": "markdown",
      "source": [
        "**IMPORTING LIBRARIES**"
      ],
      "metadata": {
        "id": "Ppxy4uEtTsgs"
      }
    },
    {
      "cell_type": "code",
      "source": [
        "import matplotlib.pyplot as plt"
      ],
      "metadata": {
        "id": "1oU-Wr1uAHFq"
      },
      "execution_count": null,
      "outputs": []
    },
    {
      "cell_type": "code",
      "source": [
        "import numpy as np\n",
        "import heapq\n",
        "import matplotlib.pyplot as plt\n",
        "from nltk.tokenize import RegexpTokenizer\n",
        "from keras.models import Sequential, load_model\n",
        "from keras.layers.core import Dense, Activation\n",
        "from keras.layers import LSTM\n",
        "import pickle\n",
        "from tensorflow.keras.optimizers import RMSprop"
      ],
      "metadata": {
        "id": "Y4WVc6Q-DY-E"
      },
      "execution_count": null,
      "outputs": []
    },
    {
      "cell_type": "markdown",
      "source": [
        "**SAVING MODEL CHECK POINTS**"
      ],
      "metadata": {
        "id": "hd5dUVX0Tmbh"
      }
    },
    {
      "cell_type": "code",
      "source": [
        "model.save('next_words.h5')\n",
        "pickle.dump(history, open(\"history.p\", \"wb\"))\n",
        "model = load_model('next_words.h5')\n",
        "history = pickle.load(open(\"history.p\", \"rb\"))"
      ],
      "metadata": {
        "id": "GBYYmxdwc5eY"
      },
      "execution_count": null,
      "outputs": []
    },
    {
      "cell_type": "markdown",
      "source": [
        "**ACCURACY CURVE**"
      ],
      "metadata": {
        "id": "38AvpDQ-TPaP"
      }
    },
    {
      "cell_type": "code",
      "source": [
        "plt.plot(history['accuracy'])\n",
        "plt.plot(history['val_accuracy'])\n",
        "plt.title('model accuracy')\n",
        "plt.ylabel('accuracy')\n",
        "plt.xlabel('epoch')\n",
        "plt.legend(['train', 'test'], loc='upper left')"
      ],
      "metadata": {
        "colab": {
          "base_uri": "https://localhost:8080/",
          "height": 313
        },
        "id": "cQaq7kH4c9Uf",
        "outputId": "bbbc62cc-9e9f-4bb5-bddc-243384a8378e"
      },
      "execution_count": null,
      "outputs": [
        {
          "output_type": "execute_result",
          "data": {
            "text/plain": [
              "<matplotlib.legend.Legend at 0x7fe2744bd050>"
            ]
          },
          "metadata": {},
          "execution_count": 22
        },
        {
          "output_type": "display_data",
          "data": {
            "image/png": "[encoded data removed]",
            "text/plain": [
              "<Figure size 432x288 with 1 Axes>"
            ]
          },
          "metadata": {
            "needs_background": "light"
          }
        }
      ]
    },
    {
      "cell_type": "markdown",
      "source": [
        "**LOSS CURVE**"
      ],
      "metadata": {
        "id": "fFQsYTnGTX10"
      }
    },
    {
      "cell_type": "code",
      "source": [
        "plt.plot(history['loss'])\n",
        "plt.plot(history['val_loss'])\n",
        "plt.title('model loss')\n",
        "plt.ylabel('loss')\n",
        "plt.xlabel('epoch')\n",
        "plt.legend(['train', 'test'], loc='upper left')"
      ],
      "metadata": {
        "colab": {
          "base_uri": "https://localhost:8080/",
          "height": 313
        },
        "id": "uM1I2Yb6daC2",
        "outputId": "7c5904fd-67dd-46c7-ab10-c2cfdb4baa4c"
      },
      "execution_count": null,
      "outputs": [
        {
          "output_type": "execute_result",
          "data": {
            "text/plain": [
              "<matplotlib.legend.Legend at 0x7fe27445d690>"
            ]
          },
          "metadata": {},
          "execution_count": 23
        },
        {
          "output_type": "display_data",
          "data": {
            "image/png": "[encoded data removed]",
            "text/plain": [
              "<Figure size 432x288 with 1 Axes>"
            ]
          },
          "metadata": {
            "needs_background": "light"
          }
        }
      ]
    },
    {
      "cell_type": "code",
      "source": [
        ""
      ],
      "metadata": {
        "id": "OUODEVDclhQ0"
      },
      "execution_count": null,
      "outputs": []
    }
  ]
}